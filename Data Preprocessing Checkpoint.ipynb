{
 "cells": [
  {
   "cell_type": "code",
   "execution_count": 2,
   "id": "3aba9924",
   "metadata": {},
   "outputs": [
    {
     "name": "stdout",
     "output_type": "stream",
     "text": [
      "   PassengerId Survived  Pclass                                         Name  \\\n",
      "0          343       No       2                   Collander, Mr. Erik Gustaf   \n",
      "1           76       No       3                      Moen, Mr. Sigurd Hansen   \n",
      "2          641       No       3                       Jensen, Mr. Hans Peder   \n",
      "3          568       No       3  Palsson, Mrs. Nils (Alma Cornelia Berglund)   \n",
      "4          672       No       1                       Davidson, Mr. Thornton   \n",
      "\n",
      "      Sex   Age  SibSp  Parch      Ticket     Fare  Cabin Embarked  \n",
      "0    male  28.0      0      0      248740  13.0000    NaN        S  \n",
      "1    male  25.0      0      0      348123   7.6500  F G73        S  \n",
      "2    male  20.0      0      0      350050   7.8542    NaN        S  \n",
      "3  female  29.0      0      4      349909  21.0750    NaN        S  \n",
      "4    male  31.0      1      0  F.C. 12750  52.0000    B71        S  \n",
      "<class 'pandas.core.frame.DataFrame'>\n",
      "RangeIndex: 891 entries, 0 to 890\n",
      "Data columns (total 12 columns):\n",
      " #   Column       Non-Null Count  Dtype  \n",
      "---  ------       --------------  -----  \n",
      " 0   PassengerId  891 non-null    int64  \n",
      " 1   Survived     891 non-null    object \n",
      " 2   Pclass       891 non-null    int64  \n",
      " 3   Name         891 non-null    object \n",
      " 4   Sex          891 non-null    object \n",
      " 5   Age          714 non-null    float64\n",
      " 6   SibSp        891 non-null    int64  \n",
      " 7   Parch        891 non-null    int64  \n",
      " 8   Ticket       891 non-null    object \n",
      " 9   Fare         891 non-null    float64\n",
      " 10  Cabin        204 non-null    object \n",
      " 11  Embarked     889 non-null    object \n",
      "dtypes: float64(2), int64(4), object(6)\n",
      "memory usage: 83.7+ KB\n",
      "None\n",
      "     PassengerId Survived  Pclass  \\\n",
      "886           10      Yes       2   \n",
      "887           61       No       3   \n",
      "888          535       No       3   \n",
      "889          102       No       3   \n",
      "890          428      Yes       2   \n",
      "\n",
      "                                                  Name     Sex   Age  SibSp  \\\n",
      "886                Nasser, Mrs. Nicholas (Adele Achem)  female  14.0      1   \n",
      "887                              Sirayanian, Mr. Orsen    male  22.0      0   \n",
      "888                                Cacic, Miss. Marija  female  30.0      0   \n",
      "889                   Petroff, Mr. Pastcho (\"Pentcho\")    male   NaN      0   \n",
      "890  Phillips, Miss. Kate Florence (\"Mrs Kate Louis...  female  19.0      0   \n",
      "\n",
      "     Parch  Ticket     Fare Cabin Embarked  \n",
      "886      0  237736  30.0708   NaN        C  \n",
      "887      0    2669   7.2292   NaN        C  \n",
      "888      0  315084   8.6625   NaN        S  \n",
      "889      0  349215   7.8958   NaN        S  \n",
      "890      0  250655  26.0000   NaN        S  \n",
      "     PassengerId  Survived  Pclass   Name    Sex    Age  SibSp  Parch  Ticket  \\\n",
      "0          False     False   False  False  False  False  False  False   False   \n",
      "1          False     False   False  False  False  False  False  False   False   \n",
      "2          False     False   False  False  False  False  False  False   False   \n",
      "3          False     False   False  False  False  False  False  False   False   \n",
      "4          False     False   False  False  False  False  False  False   False   \n",
      "..           ...       ...     ...    ...    ...    ...    ...    ...     ...   \n",
      "886        False     False   False  False  False  False  False  False   False   \n",
      "887        False     False   False  False  False  False  False  False   False   \n",
      "888        False     False   False  False  False  False  False  False   False   \n",
      "889        False     False   False  False  False   True  False  False   False   \n",
      "890        False     False   False  False  False  False  False  False   False   \n",
      "\n",
      "      Fare  Cabin  Embarked  \n",
      "0    False   True     False  \n",
      "1    False  False     False  \n",
      "2    False   True     False  \n",
      "3    False   True     False  \n",
      "4    False  False     False  \n",
      "..     ...    ...       ...  \n",
      "886  False   True     False  \n",
      "887  False   True     False  \n",
      "888  False   True     False  \n",
      "889  False   True     False  \n",
      "890  False   True     False  \n",
      "\n",
      "[891 rows x 12 columns]\n",
      "PassengerId      0\n",
      "Survived         0\n",
      "Pclass           0\n",
      "Name             0\n",
      "Sex              0\n",
      "Age            177\n",
      "SibSp            0\n",
      "Parch            0\n",
      "Ticket           0\n",
      "Fare             0\n",
      "Cabin          687\n",
      "Embarked         2\n",
      "dtype: int64\n"
     ]
    }
   ],
   "source": [
    "import pandas as pd\n",
    "df = pd.read_csv('C:/Users/boti/Downloads/titanic-passengers.csv',sep=';')\n",
    "#a)\n",
    "print(df.head()) \n",
    "print(df.info())\n",
    "print(df.tail())\n",
    "#b)\n",
    "print(df.isnull())\n",
    "print(df.isnull().sum())"
   ]
  },
  {
   "cell_type": "code",
   "execution_count": 8,
   "id": "ce17d18b",
   "metadata": {},
   "outputs": [
    {
     "name": "stdout",
     "output_type": "stream",
     "text": [
      "G6             691\n",
      "C23 C25 C27      4\n",
      "B96 B98          4\n",
      "D                3\n",
      "C22 C26          3\n",
      "              ... \n",
      "D45              1\n",
      "F G63            1\n",
      "A34              1\n",
      "C85              1\n",
      "E63              1\n",
      "Name: Cabin, Length: 147, dtype: int64\n",
      "S    646\n",
      "C    168\n",
      "Q     77\n",
      "Name: Embarked, dtype: int64\n",
      "PassengerId    0\n",
      "Survived       0\n",
      "Pclass         0\n",
      "Name           0\n",
      "Sex            0\n",
      "Age            0\n",
      "SibSp          0\n",
      "Parch          0\n",
      "Ticket         0\n",
      "Fare           0\n",
      "Cabin          0\n",
      "Embarked       0\n",
      "dtype: int64\n"
     ]
    }
   ],
   "source": [
    "print(df['Cabin'].value_counts())\n",
    "print(df['Embarked'].value_counts())\n",
    "df['Cabin'].fillna('G6',inplace=True)\n",
    "df['Embarked'].fillna('S',inplace=True)\n",
    "df['Age'].fillna(df['Age'].mean(),inplace = True)\n",
    "print(df.isnull().sum())"
   ]
  },
  {
   "cell_type": "code",
   "execution_count": 9,
   "id": "f7ce5a93",
   "metadata": {},
   "outputs": [
    {
     "name": "stdout",
     "output_type": "stream",
     "text": [
      "<class 'pandas.core.frame.DataFrame'>\n",
      "RangeIndex: 891 entries, 0 to 890\n",
      "Columns: 838 entries, PassengerId to T\n",
      "dtypes: float64(2), int32(4), int64(4), uint8(828)\n",
      "memory usage: 776.3 KB\n",
      "None\n"
     ]
    }
   ],
   "source": [
    "from sklearn.preprocessing import LabelEncoder\n",
    "encoder = LabelEncoder()\n",
    "df['Survived']=encoder.fit_transform(df['Survived'])\n",
    "df['Embarked']=encoder.fit_transform(df['Embarked'])\n",
    "df['Sex']=encoder.fit_transform(df['Sex'])\n",
    "df['Name']=encoder.fit_transform(df['Name'])\n",
    "one_hot= pd.get_dummies(df['Ticket'])\n",
    "df= df.drop('Ticket',axis=1)\n",
    "df=df.join(one_hot)\n",
    "one_hot1= pd.get_dummies(df['Cabin'])\n",
    "df= df.drop('Cabin',axis=1)\n",
    "df=df.join(one_hot1)\n",
    "print(df.info())"
   ]
  },
  {
   "cell_type": "code",
   "execution_count": 10,
   "id": "94067889",
   "metadata": {},
   "outputs": [
    {
     "name": "stdout",
     "output_type": "stream",
     "text": [
      "   PassengerId  Survived  Pclass  Name  Sex   Age  SibSp  Parch     Fare  \\\n",
      "0          343         0       2   170    1  28.0      0      0  13.0000   \n",
      "1           76         0       3   546    1  25.0      0      0   7.6500   \n",
      "2          641         0       3   397    1  20.0      0      0   7.8542   \n",
      "3          568         0       3   627    0  29.0      0      4  21.0750   \n",
      "4          672         0       1   202    1  31.0      1      0  52.0000   \n",
      "\n",
      "   Embarked  ...  E8  F E69  F G63  F G73  F2  F33  F38  F4  G6  T  \n",
      "0         2  ...   0      0      0      0   0    0    0   0   1  0  \n",
      "1         2  ...   0      0      0      1   0    0    0   0   0  0  \n",
      "2         2  ...   0      0      0      0   0    0    0   0   1  0  \n",
      "3         2  ...   0      0      0      0   0    0    0   0   1  0  \n",
      "4         2  ...   0      0      0      0   0    0    0   0   0  0  \n",
      "\n",
      "[5 rows x 838 columns]\n"
     ]
    }
   ],
   "source": [
    "print(df.head())"
   ]
  },
  {
   "cell_type": "code",
   "execution_count": null,
   "id": "4c4072e6",
   "metadata": {},
   "outputs": [],
   "source": []
  }
 ],
 "metadata": {
  "kernelspec": {
   "display_name": "Python 3 (ipykernel)",
   "language": "python",
   "name": "python3"
  },
  "language_info": {
   "codemirror_mode": {
    "name": "ipython",
    "version": 3
   },
   "file_extension": ".py",
   "mimetype": "text/x-python",
   "name": "python",
   "nbconvert_exporter": "python",
   "pygments_lexer": "ipython3",
   "version": "3.9.12"
  }
 },
 "nbformat": 4,
 "nbformat_minor": 5
}
