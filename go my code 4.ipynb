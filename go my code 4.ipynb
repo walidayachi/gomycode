{
 "cells": [
  {
   "cell_type": "code",
   "execution_count": 1,
   "id": "e071448e",
   "metadata": {},
   "outputs": [],
   "source": [
    "import numpy as np\n",
    "b = np.array([0,0,0,0,1,0,0,0])\n",
    "def change_array(a):\n",
    "    k=[]\n",
    "    if a.ndim>1:\n",
    "        for i in range(len(a)):\n",
    "            for j in range(len(a[i])):\n",
    "                k.append(a[i][j])\n",
    "    else :\n",
    "        for i in range(len(a)):\n",
    "            k.append(a[i])\n",
    "    return k"
   ]
  },
  {
   "cell_type": "code",
   "execution_count": 2,
   "id": "eec8657a",
   "metadata": {},
   "outputs": [
    {
     "name": "stdout",
     "output_type": "stream",
     "text": [
      "12\n"
     ]
    }
   ],
   "source": [
    "import numpy as np\n",
    "a = np.array([[0,1,2],[3,4,5],[6,7,8]])\n",
    "def sum(a):\n",
    "    b=0\n",
    "    for i in range (len(a)):\n",
    "        b = b +a[i][i]\n",
    "    return b\n",
    "print(sum(a))"
   ]
  },
  {
   "cell_type": "code",
   "execution_count": 5,
   "id": "a0189f57",
   "metadata": {},
   "outputs": [
    {
     "name": "stdout",
     "output_type": "stream",
     "text": [
      "donner x4\n",
      "donner le nombre de valeur que vous voulez inserer9\n",
      "si la dimention de votre array est 1 ecrivez 1 si elle est 2 ecrivez 22\n",
      "donner les valeurs de votre liste une à une 12\n",
      "donner les valeurs de votre liste une à une 2\n",
      "donner les valeurs de votre liste une à une 3\n",
      "donner les valeurs de votre liste une à une 4\n",
      "donner les valeurs de votre liste une à une 5\n",
      "donner les valeurs de votre liste une à une 6\n",
      "donner les valeurs de votre liste une à une 7\n",
      "donner les valeurs de votre liste une à une 8\n",
      "donner les valeurs de votre liste une à une 8\n",
      "donner le nombre de colonne que vous voulez 3\n",
      "donner le nombre de lignes que vous voulez3\n",
      "[[12  2  3]\n",
      " [ 4  5  6]\n",
      " [ 7  8  8]]\n",
      "[12, 5, 6, 7, 8, 8]\n"
     ]
    }
   ],
   "source": [
    "import numpy as np\n",
    "b=int(input('donner x'))\n",
    "x=int(input('donner le nombre de valeur que vous voulez inserer'))\n",
    "y= int(input('si la dimention de votre array est 1 ecrivez 1 si elle est 2 ecrivez 2'))\n",
    "m=[]\n",
    "for i in range (x):\n",
    "    m.append(int(input('donner les valeurs de votre liste une à une ')))\n",
    "E=np.array(m)\n",
    "if y == 2:\n",
    "    z=int(input('donner le nombre de colonne que vous voulez '))\n",
    "    j=int(input('donner le nombre de lignes que vous voulez'))\n",
    "    E=E.reshape(j,z)\n",
    "print(E)\n",
    "def maxi(a ,x):\n",
    "    m=[]\n",
    "    if a.ndim>1:\n",
    "        for i in range(len(a)):\n",
    "            for j in range(len(a[i])):\n",
    "                if a[i][j] > x :\n",
    "                    m.append(a[i][j])\n",
    "    else : \n",
    "        for i in range(len(a)):\n",
    "            if a[i]> x :\n",
    "                m.append(a[i])\n",
    "    return m\n",
    "print(maxi(E,b))"
   ]
  },
  {
   "cell_type": "code",
   "execution_count": 6,
   "id": "bd43f9ee",
   "metadata": {},
   "outputs": [
    {
     "name": "stdout",
     "output_type": "stream",
     "text": [
      "[[2 5 3]\n",
      " [9 8 7]\n",
      " [7 8 9]]\n"
     ]
    }
   ],
   "source": [
    "import numpy as np\n",
    "def addition(A,B) :\n",
    "    E=[]\n",
    "    if A.ndim>1:\n",
    "        row, col = A.shape\n",
    "        for i in range(len(A)):\n",
    "            for j in range(len(A[i])):\n",
    "                E.append(A[i][j]+B[i][j])\n",
    "        m=np.array(E)\n",
    "        m = m.reshape(row,col)\n",
    "    else:\n",
    "        for i in range(len(A)):\n",
    "            E.append(A[i]+B[i])\n",
    "        m=np.array(E)\n",
    "    return m\n",
    "a = np.array([[0,1,2],[3,4,5],[6,7,8]])\n",
    "b = np.array([[2,4,1],[6,4,2],[1,1,1]]) \n",
    "print(addition(a,b))  "
   ]
  },
  {
   "cell_type": "code",
   "execution_count": null,
   "id": "3e4c701f",
   "metadata": {},
   "outputs": [],
   "source": []
  }
 ],
 "metadata": {
  "kernelspec": {
   "display_name": "Python 3 (ipykernel)",
   "language": "python",
   "name": "python3"
  },
  "language_info": {
   "codemirror_mode": {
    "name": "ipython",
    "version": 3
   },
   "file_extension": ".py",
   "mimetype": "text/x-python",
   "name": "python",
   "nbconvert_exporter": "python",
   "pygments_lexer": "ipython3",
   "version": "3.9.12"
  }
 },
 "nbformat": 4,
 "nbformat_minor": 5
}
