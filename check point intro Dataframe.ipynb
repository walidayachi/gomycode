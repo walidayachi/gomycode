{
 "cells": [
  {
   "cell_type": "code",
   "execution_count": 1,
   "id": "8a1bd5c9",
   "metadata": {},
   "outputs": [
    {
     "name": "stdout",
     "output_type": "stream",
     "text": [
      "apples      NaN\n",
      "cherries    NaN\n",
      "cirese      NaN\n",
      "mere        NaN\n",
      "oranges     NaN\n",
      "pears       NaN\n",
      "pere        NaN\n",
      "portocale   NaN\n",
      "dtype: float64\n"
     ]
    }
   ],
   "source": []
  },
  {
   "cell_type": "code",
   "execution_count": 6,
   "id": "a5bd897e",
   "metadata": {},
   "outputs": [
    {
     "name": "stdout",
     "output_type": "stream",
     "text": [
      "        name  score  attempts qualify\n",
      "a  Anastasia   12.5       1.0     yes\n",
      "b       Dima    9.0       3.0      no\n",
      "c  Katherine   16.5       2.0     yes\n",
      "d      James    NaN       3.0      no\n",
      "e      Emily    9.0       2.0      no\n",
      "f    Michael   20.0       3.0     yes\n",
      "g    Matthew   14.5       1.0     yes\n",
      "h      Laura    NaN       1.0      no\n",
      "i      Kevin    8.0       NaN     NaN\n",
      "j      Jonas   19.0       1.0     yes\n",
      "k      Elias   20.0       3.0     yes\n",
      "l     Myriam   16.0       2.0     yes\n",
      "        name  score\n",
      "a  Anastasia   12.5\n",
      "b       Dima    9.0\n",
      "c  Katherine   16.5\n",
      "d      James    NaN\n",
      "e      Emily    9.0\n",
      "f    Michael   20.0\n",
      "g    Matthew   14.5\n",
      "h      Laura    NaN\n",
      "i      Kevin    8.0\n",
      "j      Jonas   19.0\n",
      "k      Elias   20.0\n",
      "l     Myriam   16.0\n",
      "        name  score qualify\n",
      "a  Anastasia   12.5     yes\n",
      "b       Dima    9.0      no\n",
      "c  Katherine   16.5     yes\n",
      "d      James    NaN      no\n",
      "e      Emily    9.0      no\n",
      "f    Michael   20.0     yes\n",
      "g    Matthew   14.5     yes\n",
      "h      Laura    NaN      no\n",
      "i      Kevin    8.0     NaN\n",
      "j      Jonas   19.0     yes\n",
      "k      Elias   20.0     yes\n",
      "l     Myriam   16.0     yes\n",
      "        name  score qualify  scusses\n",
      "a  Anastasia   12.5     yes        1\n",
      "b       Dima    9.0      no        0\n",
      "c  Katherine   16.5     yes        1\n",
      "d      James    NaN      no        0\n",
      "e      Emily    9.0      no        0\n",
      "f    Michael   20.0     yes        1\n",
      "g    Matthew   14.5     yes        1\n",
      "h      Laura    NaN      no        0\n",
      "i      Kevin    8.0     NaN        0\n",
      "j      Jonas   19.0     yes        1\n",
      "k      Elias   20.0     yes        1\n",
      "l     Myriam   16.0     yes        1\n"
     ]
    }
   ],
   "source": [
    "import pandas as pd\n",
    "import numpy as np\n",
    "exam_data = {'name': ['Anastasia', 'Dima', 'Katherine', 'James', 'Emily', 'Michael', 'Matthew', 'Laura', 'Kevin', 'Jonas', \"Elias\", 'Myriam'],\n",
    "\n",
    "'score': [12.5, 9, 16.5, np.nan, 9, 20, 14.5, np.nan , 8, 19, 20, 16],\n",
    "\n",
    "'attempts': [1, 3, 2, 3, 2, 3, 1, 1, np.nan ,1, 3, 2],\n",
    "\n",
    "'qualify': ['yes', 'no', 'yes', 'no', 'no', 'yes', 'yes', 'no',np.nan , 'yes', 'yes', 'yes']}\n",
    "\n",
    "labels = pd.Series(['a', 'b', 'c', 'd', 'e', 'f', 'g', 'h', 'i', 'j', 'k', 'l'])\n",
    "df = pd.DataFrame(exam_data)\n",
    "df = df.set_index(labels)\n",
    "print(df)\n",
    "\n",
    "\n",
    "df.head(3)\n",
    "m=df[['name','score']]\n",
    "print(m)\n",
    "df = df.drop('attempts',axis=1)\n",
    "print(df)\n",
    "J= df['score'].values\n",
    "k=[]\n",
    "for i in J:\n",
    "    if i > 10 :\n",
    "        k.append(1)\n",
    "    else :\n",
    "        k.append(0)\n",
    "df['scusses'] = k\n",
    "print(df)\n",
    "df.to_csv('my_data')"
   ]
  },
  {
   "cell_type": "code",
   "execution_count": null,
   "id": "1995add3",
   "metadata": {},
   "outputs": [],
   "source": []
  }
 ],
 "metadata": {
  "kernelspec": {
   "display_name": "Python 3 (ipykernel)",
   "language": "python",
   "name": "python3"
  },
  "language_info": {
   "codemirror_mode": {
    "name": "ipython",
    "version": 3
   },
   "file_extension": ".py",
   "mimetype": "text/x-python",
   "name": "python",
   "nbconvert_exporter": "python",
   "pygments_lexer": "ipython3",
   "version": "3.9.12"
  }
 },
 "nbformat": 4,
 "nbformat_minor": 5
}
