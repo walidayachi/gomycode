{
 "cells": [
  {
   "cell_type": "code",
   "execution_count": null,
   "id": "b4edc17c",
   "metadata": {},
   "outputs": [],
   "source": [
    "import numpy as np\n",
    "import tensorflow as tf\n",
    "from tensorflow.keras import initializers\n",
    "from sklearn.model_selection import train_test_split\n",
    "import pandas as pd\n",
    "from tensorflow import keras\n",
    "from tensorflow.keras import layers\n",
    "from sklearn.preprocessing import StandardScaler, MinMaxScaler\n",
    "import matplotlib.pyplot as plt\n",
    "from sklearn.preprocessing import OneHotEncoder\n",
    "dataframe = pd.read_csv('C:/Users/boti/Downloads/iris.csv', sep=',')\n",
    "dataframe['variety'].unique()\n",
    "\n",
    "X = dataframe.iloc[:,:4]\n",
    "Y = dataframe.iloc[:,4]\n",
    "Y = np.array(Y)\n",
    "X= np.array(X)\n",
    "Y=Y.reshape(-1,1)\n",
    "encoder = OneHotEncoder(sparse=False)\n",
    "Y = encoder.fit_transform(Y)\n",
    "X_train,X_test,Y_train,Y_test=train_test_split(X,Y,test_size=0.2,random_state=40)\n",
    "\n",
    "model = tf.keras.Sequential([\n",
    "layers.Dense(10,input_dim = 4   ,activation='relu'),\n",
    "layers.Dense(10,activation='relu'),\n",
    "layers.Dense(10  ,activation='relu'),\n",
    "layers.Dense(3,activation='softmax')])\n",
    "model.compile(loss='categorical_crossentropy', optimizer=tf.keras.optimizers.Adamax(learning_rate=0.05) ,metrics=['accuracy'])\n",
    "history = model.fit(\n",
    "    X_train,\n",
    "    Y_train,\n",
    "    validation_split=0.2,\n",
    "    epochs=1000, batch_size=20, verbose=2)\n",
    "def plot_loss(history):\n",
    "  plt.plot(history.history['loss'], label='loss')\n",
    "  plt.plot(history.history['val_loss'], label='val_loss')\n",
    "  plt.xlabel('Epoch')\n",
    "  plt.ylabel('Error Energie')\n",
    "  plt.legend()\n",
    "  plt.grid(True)\n",
    "test_results = {}\n",
    "\n",
    "\n",
    "test_predictions = model.predict(X_test)\n",
    "test_predictions = test_predictions.round()\n",
    "plot_loss(history)\n",
    "CalculatedAccuracy = sum(test_predictions == Y_test)/len(test_predictions)\n",
    "print(CalculatedAccuracy)\n",
    "metric = tf.keras.metrics.Accuracy()\n",
    "metric.update_state(test_predictions,Y_test)\n",
    "print(metric.result().numpy())\n"
   ]
  }
 ],
 "metadata": {
  "kernelspec": {
   "display_name": "Python 3 (ipykernel)",
   "language": "python",
   "name": "python3"
  },
  "language_info": {
   "codemirror_mode": {
    "name": "ipython",
    "version": 3
   },
   "file_extension": ".py",
   "mimetype": "text/x-python",
   "name": "python",
   "nbconvert_exporter": "python",
   "pygments_lexer": "ipython3",
   "version": "3.9.12"
  }
 },
 "nbformat": 4,
 "nbformat_minor": 5
}
