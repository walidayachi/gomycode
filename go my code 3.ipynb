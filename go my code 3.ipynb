{
 "cells": [
  {
   "cell_type": "code",
   "execution_count": 1,
   "id": "8840530b",
   "metadata": {},
   "outputs": [
    {
     "name": "stdout",
     "output_type": "stream",
     "text": [
      "15\n"
     ]
    }
   ],
   "source": [
    "def max(a,b,c):\n",
    "  if a>b and a>c :\n",
    "      return a\n",
    "  elif b>a and b>c:\n",
    "      return b\n",
    "  else:\n",
    "      return c"
   ]
  },
  {
   "cell_type": "code",
   "execution_count": 2,
   "id": "1a5cbc1b",
   "metadata": {},
   "outputs": [],
   "source": [
    "def calculation(a,b):\n",
    "    x= a+b\n",
    "    y= a-b\n",
    "    return(x,y)"
   ]
  },
  {
   "cell_type": "code",
   "execution_count": 5,
   "id": "2ebec812",
   "metadata": {},
   "outputs": [
    {
     "name": "stdout",
     "output_type": "stream",
     "text": [
      "give the length of the List7\n",
      "give number0\n",
      "give number1\n",
      "give number2\n",
      "give number3\n",
      "give number4\n",
      "give number5\n",
      "give number6\n",
      "15\n"
     ]
    }
   ],
   "source": [
    "def sum(List):\n",
    "    a=0\n",
    "    for i in range(len(List)):\n",
    "        a=a+List[i]\n",
    "    return a\n",
    "def mult(List):\n",
    "    b=1\n",
    "    for i in range(len(List)):\n",
    "        b=b*List[i]\n",
    "    return b\n",
    "x=int(input('give the length of the List'))\n",
    "m=[]\n",
    "for i in range(x):\n",
    "    m.append(int(input('give number')))\n",
    "E=[]\n",
    "F=[]\n",
    "for j in range(x):\n",
    "    if j%2==0:\n",
    "        E.append(m[j])\n",
    "    else:\n",
    "        F.append(m[j])\n",
    "e=sum(E)\n",
    "f=mult(F)\n",
    "print(f)"
   ]
  },
  {
   "cell_type": "code",
   "execution_count": 4,
   "id": "57a2e284",
   "metadata": {},
   "outputs": [
    {
     "name": "stdout",
     "output_type": "stream",
     "text": [
      "give a hyphen-separated sequence of words7\n",
      "7\n"
     ]
    }
   ],
   "source": [
    "string = input('give a hyphen-separated sequence of words')\n",
    "K = string.split('-' )\n",
    "C=sorted(K)\n",
    "a=''\n",
    "for i in range(len(C)-1):\n",
    "   a=a+C[i]+'-'\n",
    "\n",
    "a = a + C[len(C)-1]\n",
    "print(a)"
   ]
  },
  {
   "cell_type": "code",
   "execution_count": null,
   "id": "0c81b32f",
   "metadata": {},
   "outputs": [],
   "source": []
  }
 ],
 "metadata": {
  "kernelspec": {
   "display_name": "Python 3 (ipykernel)",
   "language": "python",
   "name": "python3"
  },
  "language_info": {
   "codemirror_mode": {
    "name": "ipython",
    "version": 3
   },
   "file_extension": ".py",
   "mimetype": "text/x-python",
   "name": "python",
   "nbconvert_exporter": "python",
   "pygments_lexer": "ipython3",
   "version": "3.9.12"
  }
 },
 "nbformat": 4,
 "nbformat_minor": 5
}
