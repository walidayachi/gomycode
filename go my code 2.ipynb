{
 "cells": [
  {
   "cell_type": "code",
   "execution_count": 3,
   "id": "c452e1f8",
   "metadata": {},
   "outputs": [
    {
     "name": "stdout",
     "output_type": "stream",
     "text": [
      "write the length of the List3\n",
      "write the component of the list2\n",
      "write the component of the list3\n",
      "write the component of the list6\n",
      "[2, 3, 6]\n",
      "result =  36\n"
     ]
    }
   ],
   "source": [
    "#Question 1\n",
    "x=int(input('write the length of the List'))\n",
    "List=[]\n",
    "for i in range (x):\n",
    "    k=int(input('write the component of the list'))\n",
    "    List.append(k)\n",
    "print(List)\n",
    "k=1\n",
    "for j in range(len(List)):\n",
    "    k=k*List[j]\n",
    "print('result = ',k)"
   ]
  },
  {
   "cell_type": "code",
   "execution_count": 16,
   "id": "ec6cde4d",
   "metadata": {},
   "outputs": [
    {
     "name": "stdout",
     "output_type": "stream",
     "text": [
      "{'a': 400, 'b': 400, 'd': 400, 'c': 300}\n"
     ]
    }
   ],
   "source": [
    "#Question 2\n",
    "d1 = {'a': 100, 'b': 200, 'c':300}\n",
    "\n",
    "d2 = {'a': 300, 'b': 200, 'd':400}\n",
    "d3={}\n",
    "E=[]\n",
    "M=[]\n",
    "for key in d2.keys():\n",
    "    E.append(key)\n",
    "for key in d1.keys():\n",
    "    M.append(key)\n",
    "for i in range(len(E)):\n",
    "    if E[i] != M [i]:\n",
    "        E.append(M[i])\n",
    "k=[]\n",
    "c=[]\n",
    "for value in d1.values():\n",
    "     k.append(value)\n",
    "for value in d2.values():\n",
    "     c.append(value)\n",
    "j=[]\n",
    "x=len(E)-len(k)\n",
    "for i in range(len(k)-x):\n",
    "    j.append(k[i]+c[i])\n",
    "for y in range(x):\n",
    "    j.append(c[-x])\n",
    "for y in range(x):\n",
    "    j.append(k[-x])\n",
    "for i in range (len(j)):\n",
    "    d3[E[i]]=j[i]\n",
    "print(d3)"
   ]
  },
  {
   "cell_type": "code",
   "execution_count": null,
   "id": "67359dea",
   "metadata": {},
   "outputs": [],
   "source": [
    "#Question 3\n",
    "x=int(input('give a number '))\n",
    "k=[]\n",
    "m=[]\n",
    "d={}\n",
    "for i in range(1,1+x):\n",
    "    k.append(i)\n",
    "    m.append(i**2)\n",
    "for j in range(len(k)):\n",
    "    d[k[j]] = m[j]\n",
    "print(d)\n"
   ]
  }
 ],
 "metadata": {
  "kernelspec": {
   "display_name": "Python 3 (ipykernel)",
   "language": "python",
   "name": "python3"
  },
  "language_info": {
   "codemirror_mode": {
    "name": "ipython",
    "version": 3
   },
   "file_extension": ".py",
   "mimetype": "text/x-python",
   "name": "python",
   "nbconvert_exporter": "python",
   "pygments_lexer": "ipython3",
   "version": "3.9.12"
  }
 },
 "nbformat": 4,
 "nbformat_minor": 5
}
