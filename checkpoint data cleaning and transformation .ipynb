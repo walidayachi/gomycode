{
 "cells": [
  {
   "cell_type": "code",
   "execution_count": 20,
   "id": "2c834158",
   "metadata": {},
   "outputs": [
    {
     "name": "stdout",
     "output_type": "stream",
     "text": [
      "name        0\n",
      "score       2\n",
      "attempts    1\n",
      "qualify     1\n",
      "dtype: int64\n",
      "    name  score  attempts  qualify\n",
      "a  False  False     False    False\n",
      "b  False  False     False    False\n",
      "c  False  False     False    False\n",
      "d  False   True     False    False\n",
      "e  False  False     False    False\n",
      "f  False  False     False    False\n",
      "g  False  False     False    False\n",
      "h  False   True     False    False\n",
      "i  False  False      True     True\n",
      "j  False  False     False    False\n",
      "k  False  False     False    False\n",
      "l  False  False     False    False\n",
      "name        0\n",
      "score       0\n",
      "attempts    0\n",
      "qualify     0\n",
      "dtype: int64\n",
      "        name  score  attempts qualify\n",
      "a  Anastasia  12.50       1.0     yes\n",
      "b       Dima   9.00       3.0      no\n",
      "c  Katherine  16.50       2.0     yes\n",
      "d      James  14.45       3.0      no\n",
      "e      Emily   9.00       2.0      no\n",
      "f    Michael  20.00       3.0     yes\n",
      "g    Matthew  14.50       1.0     yes\n",
      "h      Laura  14.45       1.0      no\n",
      "i      Kevin   8.00       2.0      no\n",
      "j      Jonas  19.00       1.0     yes\n",
      "k      Elias  20.00       3.0     yes\n",
      "l     Myriam  16.00       2.0     yes\n",
      "   name  score  attempts  no  yes\n",
      "a     0  12.50       1.0   0    1\n",
      "b     1   9.00       3.0   1    0\n",
      "c     6  16.50       2.0   0    1\n",
      "d     4  14.45       3.0   1    0\n",
      "e     3   9.00       2.0   1    0\n",
      "f    10  20.00       3.0   0    1\n",
      "g     9  14.50       1.0   0    1\n",
      "h     8  14.45       1.0   1    0\n",
      "i     7   8.00       2.0   1    0\n",
      "j     5  19.00       1.0   0    1\n",
      "k     2  20.00       3.0   0    1\n",
      "l    11  16.00       2.0   0    1\n"
     ]
    }
   ],
   "source": [
    "import pandas as pd\n",
    "import numpy as np\n",
    "from sklearn.preprocessing import LabelEncoder\n",
    "exam_data = {'name': ['Anastasia', 'Dima', 'Katherine', 'James', 'Emily', 'Michael', 'Matthew', 'Laura', 'Kevin', 'Jonas', \"Elias\", 'Myriam'],\n",
    "\n",
    "'score': [12.5, 9, 16.5, np.nan, 9, 20, 14.5, np.nan , 8, 19, 20, 16],\n",
    "\n",
    "'attempts': [1, 3, 2, 3, 2, 3, 1, 1, np.nan ,1, 3, 2],\n",
    "\n",
    "'qualify': ['yes', 'no', 'yes', 'no', 'no', 'yes', 'yes', 'no',np.nan , 'yes', 'yes', 'yes']}\n",
    "\n",
    "labels = ['a', 'b', 'c', 'd', 'e', 'f', 'g', 'h', 'i', 'j', 'k', 'l']\n",
    "df =df = pd.DataFrame(exam_data, index = labels)\n",
    "print(df.isnull().sum())\n",
    "print(df.isnull())\n",
    "df['attempts'].fillna(df['attempts'].median(),inplace=True)\n",
    "df['score'].fillna(df['score'].mean(),inplace= True)\n",
    "df['qualify'].fillna('no',inplace= True)\n",
    "print(df.isnull().sum())\n",
    "print(df)\n",
    "encoder = LabelEncoder()\n",
    "df['name']=encoder.fit_transform(df['name'])\n",
    "one_hot=pd.get_dummies(df['qualify'])\n",
    "df = df.drop('qualify',axis=1)\n",
    "df = df.join(one_hot)\n",
    "print(df)\n"
   ]
  },
  {
   "cell_type": "code",
   "execution_count": null,
   "id": "222e0558",
   "metadata": {},
   "outputs": [],
   "source": []
  }
 ],
 "metadata": {
  "kernelspec": {
   "display_name": "Python 3 (ipykernel)",
   "language": "python",
   "name": "python3"
  },
  "language_info": {
   "codemirror_mode": {
    "name": "ipython",
    "version": 3
   },
   "file_extension": ".py",
   "mimetype": "text/x-python",
   "name": "python",
   "nbconvert_exporter": "python",
   "pygments_lexer": "ipython3",
   "version": "3.9.12"
  }
 },
 "nbformat": 4,
 "nbformat_minor": 5
}
