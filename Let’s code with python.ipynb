{
 "cells": [
  {
   "cell_type": "code",
   "execution_count": 2,
   "id": "6872d292",
   "metadata": {},
   "outputs": [
    {
     "name": "stdout",
     "output_type": "stream",
     "text": [
      "-10\n",
      "-9\n",
      "-8\n",
      "-7\n",
      "-6\n",
      "-5\n",
      "-4\n",
      "-3\n",
      "-2\n",
      "-1\n"
     ]
    }
   ],
   "source": [
    "for i in range(-10,0):\n",
    "    print(i)"
   ]
  },
  {
   "cell_type": "code",
   "execution_count": 3,
   "id": "00f9ac43",
   "metadata": {},
   "outputs": [
    {
     "name": "stdout",
     "output_type": "stream",
     "text": [
      "donner un nombre 75813\n",
      "5\n"
     ]
    }
   ],
   "source": [
    "x=input('donner un nombre ')\n",
    "print(len(x))"
   ]
  },
  {
   "cell_type": "code",
   "execution_count": 6,
   "id": "efbefa1b",
   "metadata": {},
   "outputs": [
    {
     "name": "stdout",
     "output_type": "stream",
     "text": [
      "donner un nombre 2\n",
      "8\n"
     ]
    }
   ],
   "source": [
    "n = int(input('donner un nombre '))\n",
    "def cube(x):\n",
    "    y=x**3\n",
    "    return y\n",
    "print(cube(n))"
   ]
  },
  {
   "cell_type": "code",
   "execution_count": 9,
   "id": "dc2dbe7e",
   "metadata": {},
   "outputs": [
    {
     "name": "stdout",
     "output_type": "stream",
     "text": [
      "donner le premier nombre 9\n",
      "donner le second nombre 15\n",
      "135\n"
     ]
    }
   ],
   "source": [
    "x = int(input('donner le premier nombre '))\n",
    "y = int(input('donner le second nombre '))\n",
    "def number(a,b):\n",
    "    if a * b <=1000 :\n",
    "        return a*b\n",
    "    else:\n",
    "        return a+b\n",
    "print (number(x,y))"
   ]
  },
  {
   "cell_type": "code",
   "execution_count": 11,
   "id": "bd379cda",
   "metadata": {},
   "outputs": [
    {
     "name": "stdout",
     "output_type": "stream",
     "text": [
      "donner la langeur de la liste6\n",
      "donner les nombres un à un 1\n",
      "donner les nombres un à un 2\n",
      "donner les nombres un à un 3\n",
      "donner les nombres un à un 4\n",
      "donner les nombres un à un 5\n",
      "donner les nombres un à un 6\n",
      "False\n"
     ]
    }
   ],
   "source": [
    "n = int(input('donner la langeur de la liste'))\n",
    "List = []\n",
    "for i in range (n):\n",
    "    x= int(input('donner les nombres un à un '))\n",
    "    List.append(x)\n",
    "if List[0]== List[n-1]:\n",
    "    print('True')\n",
    "else :\n",
    "    print('False')\n",
    "    "
   ]
  },
  {
   "cell_type": "code",
   "execution_count": 12,
   "id": "57260e3e",
   "metadata": {},
   "outputs": [
    {
     "name": "stdout",
     "output_type": "stream",
     "text": [
      "[23, 11, 17, 24, 36, 12]\n"
     ]
    }
   ],
   "source": [
    "list1 =  [10, 20, 23, 11, 17]\n",
    "list2 = [13, 43, 24, 36, 12]\n",
    "\n",
    "def odd_and_even (a,b):\n",
    "    List =[]\n",
    "    for i in a :\n",
    "        if i % 2 != 0 :\n",
    "            List.append(i)\n",
    "    for j in b :\n",
    "        if j % 2 ==0 :\n",
    "            List.append(j)\n",
    "    return List\n",
    "print(odd_and_even(list1,list2))"
   ]
  },
  {
   "cell_type": "code",
   "execution_count": 13,
   "id": "5c7bdd62",
   "metadata": {},
   "outputs": [
    {
     "name": "stdout",
     "output_type": "stream",
     "text": [
      "{11: 2, 45: 3, 8: 1, 23: 2, 89: 1}\n"
     ]
    }
   ],
   "source": [
    "List = [11, 45, 8, 11, 23, 45, 23, 45, 89]\n",
    "def dic(List):\n",
    "    dic={}\n",
    "    \n",
    "    a = []\n",
    "    b = []\n",
    "\n",
    "    for j in List:\n",
    "        if j not in a:\n",
    "            a.append(j)\n",
    "    for i in a :\n",
    "        k=0\n",
    "        for j in List:\n",
    "            if i == j :\n",
    "                k += 1\n",
    "        b.append(k)\n",
    "    for y in range (len(a)) :\n",
    "        dic[a[y]]=b[y]\n",
    "    return dic\n",
    "print(dic(List))"
   ]
  },
  {
   "cell_type": "code",
   "execution_count": null,
   "id": "d39d09e1",
   "metadata": {},
   "outputs": [],
   "source": [
    "c = {65, 42, 78, 83, 23, 57, 29}\n",
    "d = {67, 73, 43, 48, 83, 57, 29}\n",
    "def sete(a,b):\n",
    "    set1=set()\n",
    "    for i in b:\n",
    "        if i in a:\n",
    "            set1.add(i)\n",
    "    for j in set1 :\n",
    "        a.remove(j)\n",
    "    return (a , set1)\n",
    "print(sete( c, d))"
   ]
  },
  {
   "cell_type": "code",
   "execution_count": null,
   "id": "fe180ee8",
   "metadata": {},
   "outputs": [],
   "source": []
  }
 ],
 "metadata": {
  "kernelspec": {
   "display_name": "Python 3 (ipykernel)",
   "language": "python",
   "name": "python3"
  },
  "language_info": {
   "codemirror_mode": {
    "name": "ipython",
    "version": 3
   },
   "file_extension": ".py",
   "mimetype": "text/x-python",
   "name": "python",
   "nbconvert_exporter": "python",
   "pygments_lexer": "ipython3",
   "version": "3.9.12"
  }
 },
 "nbformat": 4,
 "nbformat_minor": 5
}
