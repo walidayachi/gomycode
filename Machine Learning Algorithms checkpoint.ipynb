{
 "cells": [
  {
   "cell_type": "code",
   "execution_count": 1,
   "id": "6f391a88",
   "metadata": {},
   "outputs": [],
   "source": [
    "import pandas as pd \n",
    "from sklearn.model_selection import train_test_split\n",
    "from sklearn.linear_model import LogisticRegression\n",
    "from sklearn import metrics\n",
    "import seaborn as sns\n",
    "from sklearn.neighbors import KNeighborsClassifier\n",
    "from sklearn.metrics import accuracy_score\n",
    "from sklearn import tree   \n",
    "from sklearn.tree import DecisionTreeClassifier\n",
    "from sklearn.ensemble import RandomForestClassifier\n",
    "from sklearn import metrics\n",
    "from sklearn.cluster import AgglomerativeClustering"
   ]
  },
  {
   "cell_type": "code",
   "execution_count": 2,
   "id": "3504cc0b",
   "metadata": {},
   "outputs": [
    {
     "name": "stdout",
     "output_type": "stream",
     "text": [
      "<class 'pandas.core.frame.DataFrame'>\n",
      "RangeIndex: 400 entries, 0 to 399\n",
      "Data columns (total 26 columns):\n",
      " #   Column                   Non-Null Count  Dtype  \n",
      "---  ------                   --------------  -----  \n",
      " 0   id                       400 non-null    int64  \n",
      " 1   age                      391 non-null    float64\n",
      " 2   blood_pressure           388 non-null    float64\n",
      " 3   specific gravity         353 non-null    float64\n",
      " 4   albumin                  354 non-null    float64\n",
      " 5   sugar                    351 non-null    float64\n",
      " 6   red blood cells          248 non-null    object \n",
      " 7   pus cell                 335 non-null    object \n",
      " 8   pus cell clumps          396 non-null    object \n",
      " 9   bacteria                 396 non-null    object \n",
      " 10  blood glucose random     356 non-null    float64\n",
      " 11  blood urea               381 non-null    float64\n",
      " 12  serum creatinine         383 non-null    float64\n",
      " 13  sodium                   313 non-null    float64\n",
      " 14  potassium                312 non-null    float64\n",
      " 15  hemoglobin               348 non-null    float64\n",
      " 16  packed cell volume       330 non-null    object \n",
      " 17  white blood cell count   295 non-null    object \n",
      " 18  red blood cell count     270 non-null    object \n",
      " 19  hypertension             398 non-null    object \n",
      " 20  diabetes mellitus        398 non-null    object \n",
      " 21  coronary artery disease  398 non-null    object \n",
      " 22  appetite                 399 non-null    object \n",
      " 23  pedal edema              399 non-null    object \n",
      " 24  anemia                   399 non-null    object \n",
      " 25  class                    400 non-null    object \n",
      "dtypes: float64(11), int64(1), object(14)\n",
      "memory usage: 81.4+ KB\n"
     ]
    }
   ],
   "source": [
    "df = pd.read_csv('kidney_disease.csv', sep=',')\n",
    "df.rename(columns={'bp': 'blood_pressure', 'sg': 'specific gravity','al':'albumin','su':'sugar','rbc':'red blood cells','pc':'pus cell','pcc':'pus cell clumps','ba':'bacteria','bgr':'blood glucose random','bu':'blood urea','sc':'serum creatinine','sod':'sodium','pot':'potassium','hemo':'hemoglobin','pcv':'packed cell volume','wc':'white blood cell count','rc':'red blood cell count','htn':'hypertension','dm':'diabetes mellitus','cad':'coronary artery disease','appet':'appetite','pe':'pedal edema','ane':'anemia','classification':'class'},inplace=True)\n",
    "df.info()"
   ]
  },
  {
   "cell_type": "code",
   "execution_count": 3,
   "id": "7f8340b4",
   "metadata": {},
   "outputs": [
    {
     "data": {
      "text/plain": [
       "array(['notpresent', 'present', nan], dtype=object)"
      ]
     },
     "execution_count": 3,
     "metadata": {},
     "output_type": "execute_result"
    }
   ],
   "source": [
    "df['bacteria'].unique()"
   ]
  },
  {
   "cell_type": "code",
   "execution_count": 4,
   "id": "0eb343f4",
   "metadata": {},
   "outputs": [
    {
     "data": {
      "text/plain": [
       "id                           0\n",
       "age                          9\n",
       "blood_pressure              12\n",
       "specific gravity            47\n",
       "albumin                     46\n",
       "sugar                       49\n",
       "red blood cells            152\n",
       "pus cell                    65\n",
       "pus cell clumps              4\n",
       "bacteria                     4\n",
       "blood glucose random        44\n",
       "blood urea                  19\n",
       "serum creatinine            17\n",
       "sodium                      87\n",
       "potassium                   88\n",
       "hemoglobin                  52\n",
       "packed cell volume          70\n",
       "white blood cell count     105\n",
       "red blood cell count       130\n",
       "hypertension                 2\n",
       "diabetes mellitus            2\n",
       "coronary artery disease      2\n",
       "appetite                     1\n",
       "pedal edema                  1\n",
       "anemia                       1\n",
       "class                        0\n",
       "dtype: int64"
      ]
     },
     "execution_count": 4,
     "metadata": {},
     "output_type": "execute_result"
    }
   ],
   "source": [
    "df.isnull().sum()"
   ]
  },
  {
   "cell_type": "code",
   "execution_count": 5,
   "id": "6cea6423",
   "metadata": {},
   "outputs": [
    {
     "data": {
      "text/plain": [
       "id                         0\n",
       "age                        0\n",
       "blood_pressure             0\n",
       "specific gravity           0\n",
       "albumin                    0\n",
       "sugar                      0\n",
       "bacteria                   0\n",
       "blood glucose random       0\n",
       "blood urea                 0\n",
       "serum creatinine           0\n",
       "sodium                     0\n",
       "potassium                  0\n",
       "hemoglobin                 0\n",
       "hypertension               0\n",
       "diabetes mellitus          0\n",
       "coronary artery disease    0\n",
       "appetite                   0\n",
       "pedal edema                0\n",
       "anemia                     0\n",
       "class                      0\n",
       "dtype: int64"
      ]
     },
     "execution_count": 5,
     "metadata": {},
     "output_type": "execute_result"
    }
   ],
   "source": [
    "df['age'].fillna(df['age'].mean(),inplace=True)\n",
    "df['blood_pressure'].fillna(df['blood_pressure'].mean(),inplace=True)\n",
    "df['specific gravity'].fillna(df['specific gravity'].mean(),inplace=True)\n",
    "df['albumin'].fillna(df['albumin'].mean(),inplace=True)\n",
    "df['sugar'].fillna(df['sugar'].mean(),inplace=True)\n",
    "df['blood glucose random'].fillna(df['blood glucose random'].mean(),inplace=True)\n",
    "df['blood urea'].fillna(df['blood urea'].mean(),inplace=True)\n",
    "df['serum creatinine'].fillna(df['serum creatinine'].mean(),inplace=True)\n",
    "df['sodium'].fillna(df['sodium'].mean(),inplace=True)\n",
    "df['potassium'].fillna(df['potassium'].mean(),inplace=True)\n",
    "df['hemoglobin'].fillna(df['hemoglobin'].mean(),inplace=True)\n",
    "df.drop('red blood cells', inplace=True, axis=1)\n",
    "df.drop('pus cell', inplace=True, axis=1)\n",
    "df.drop('pus cell clumps', inplace=True, axis=1)\n",
    "df.drop('packed cell volume', inplace=True, axis=1)\n",
    "df.drop('white blood cell count', inplace=True, axis=1)\n",
    "df.drop('red blood cell count', inplace=True, axis=1)\n",
    "df.dropna(axis=0, how='any',inplace=True)\n",
    "df.isnull().sum()\n"
   ]
  },
  {
   "cell_type": "code",
   "execution_count": 6,
   "id": "4f18447e",
   "metadata": {},
   "outputs": [
    {
     "name": "stdout",
     "output_type": "stream",
     "text": [
      "<class 'pandas.core.frame.DataFrame'>\n",
      "Int64Index: 393 entries, 0 to 399\n",
      "Data columns (total 20 columns):\n",
      " #   Column                   Non-Null Count  Dtype  \n",
      "---  ------                   --------------  -----  \n",
      " 0   id                       393 non-null    int64  \n",
      " 1   age                      393 non-null    float64\n",
      " 2   blood_pressure           393 non-null    float64\n",
      " 3   specific gravity         393 non-null    float64\n",
      " 4   albumin                  393 non-null    float64\n",
      " 5   sugar                    393 non-null    float64\n",
      " 6   bacteria                 393 non-null    int64  \n",
      " 7   blood glucose random     393 non-null    float64\n",
      " 8   blood urea               393 non-null    float64\n",
      " 9   serum creatinine         393 non-null    float64\n",
      " 10  sodium                   393 non-null    float64\n",
      " 11  potassium                393 non-null    float64\n",
      " 12  hemoglobin               393 non-null    float64\n",
      " 13  hypertension             393 non-null    int64  \n",
      " 14  diabetes mellitus        393 non-null    int64  \n",
      " 15  coronary artery disease  393 non-null    int64  \n",
      " 16  appetite                 393 non-null    int64  \n",
      " 17  pedal edema              393 non-null    int64  \n",
      " 18  anemia                   393 non-null    int64  \n",
      " 19  class                    393 non-null    int64  \n",
      "dtypes: float64(11), int64(9)\n",
      "memory usage: 64.5 KB\n"
     ]
    }
   ],
   "source": [
    "df[\"bacteria\"]=df[\"bacteria\"].map({\"present\": 1, \"notpresent\": 0})\n",
    "df[\"class\"]=df[\"class\"].map({\"ckd\": 1, \"notckd\": 0,'ckd\\t' : 2})\n",
    "df[\"anemia\"]=df[\"anemia\"].map({\"yes\": 1, \"no\": 0})\n",
    "df[\"diabetes mellitus\"]=df[\"diabetes mellitus\"].map({\"yes\": 1, \"no\": 0,' yes' : 1,\"\\tno\":2,\"\\tyes\":3})\n",
    "df[\"coronary artery disease\"]=df[\"coronary artery disease\"].map({\"yes\": 1, \"no\": 0,'\\tno' : 2})\n",
    "df[\"hypertension\"]=df[\"hypertension\"].map({\"yes\": 1, \"no\": 0})\n",
    "df[\"pedal edema\"]=df[\"pedal edema\"].map({\"yes\": 1, \"no\": 0})\n",
    "df[\"appetite\"]=df[\"appetite\"].map({\"good\": 1, \"poor\": 0})\n",
    "df.info()"
   ]
  },
  {
   "cell_type": "code",
   "execution_count": 7,
   "id": "40c887c7",
   "metadata": {},
   "outputs": [
    {
     "data": {
      "text/html": [
       "<div>\n",
       "<style scoped>\n",
       "    .dataframe tbody tr th:only-of-type {\n",
       "        vertical-align: middle;\n",
       "    }\n",
       "\n",
       "    .dataframe tbody tr th {\n",
       "        vertical-align: top;\n",
       "    }\n",
       "\n",
       "    .dataframe thead th {\n",
       "        text-align: right;\n",
       "    }\n",
       "</style>\n",
       "<table border=\"1\" class=\"dataframe\">\n",
       "  <thead>\n",
       "    <tr style=\"text-align: right;\">\n",
       "      <th></th>\n",
       "      <th>id</th>\n",
       "      <th>age</th>\n",
       "      <th>blood_pressure</th>\n",
       "      <th>specific gravity</th>\n",
       "      <th>albumin</th>\n",
       "      <th>sugar</th>\n",
       "      <th>bacteria</th>\n",
       "      <th>blood glucose random</th>\n",
       "      <th>blood urea</th>\n",
       "      <th>serum creatinine</th>\n",
       "      <th>sodium</th>\n",
       "      <th>potassium</th>\n",
       "      <th>hemoglobin</th>\n",
       "      <th>hypertension</th>\n",
       "      <th>diabetes mellitus</th>\n",
       "      <th>coronary artery disease</th>\n",
       "      <th>appetite</th>\n",
       "      <th>pedal edema</th>\n",
       "      <th>anemia</th>\n",
       "      <th>class</th>\n",
       "    </tr>\n",
       "  </thead>\n",
       "  <tbody>\n",
       "    <tr>\n",
       "      <th>0</th>\n",
       "      <td>0</td>\n",
       "      <td>48.0</td>\n",
       "      <td>80.0</td>\n",
       "      <td>1.020</td>\n",
       "      <td>1.0</td>\n",
       "      <td>0.0</td>\n",
       "      <td>0</td>\n",
       "      <td>121.000000</td>\n",
       "      <td>36.0</td>\n",
       "      <td>1.2</td>\n",
       "      <td>137.528754</td>\n",
       "      <td>4.627244</td>\n",
       "      <td>15.4</td>\n",
       "      <td>1</td>\n",
       "      <td>1</td>\n",
       "      <td>0</td>\n",
       "      <td>1</td>\n",
       "      <td>0</td>\n",
       "      <td>0</td>\n",
       "      <td>1</td>\n",
       "    </tr>\n",
       "    <tr>\n",
       "      <th>1</th>\n",
       "      <td>1</td>\n",
       "      <td>7.0</td>\n",
       "      <td>50.0</td>\n",
       "      <td>1.020</td>\n",
       "      <td>4.0</td>\n",
       "      <td>0.0</td>\n",
       "      <td>0</td>\n",
       "      <td>148.036517</td>\n",
       "      <td>18.0</td>\n",
       "      <td>0.8</td>\n",
       "      <td>137.528754</td>\n",
       "      <td>4.627244</td>\n",
       "      <td>11.3</td>\n",
       "      <td>0</td>\n",
       "      <td>0</td>\n",
       "      <td>0</td>\n",
       "      <td>1</td>\n",
       "      <td>0</td>\n",
       "      <td>0</td>\n",
       "      <td>1</td>\n",
       "    </tr>\n",
       "    <tr>\n",
       "      <th>2</th>\n",
       "      <td>2</td>\n",
       "      <td>62.0</td>\n",
       "      <td>80.0</td>\n",
       "      <td>1.010</td>\n",
       "      <td>2.0</td>\n",
       "      <td>3.0</td>\n",
       "      <td>0</td>\n",
       "      <td>423.000000</td>\n",
       "      <td>53.0</td>\n",
       "      <td>1.8</td>\n",
       "      <td>137.528754</td>\n",
       "      <td>4.627244</td>\n",
       "      <td>9.6</td>\n",
       "      <td>0</td>\n",
       "      <td>1</td>\n",
       "      <td>0</td>\n",
       "      <td>0</td>\n",
       "      <td>0</td>\n",
       "      <td>1</td>\n",
       "      <td>1</td>\n",
       "    </tr>\n",
       "    <tr>\n",
       "      <th>3</th>\n",
       "      <td>3</td>\n",
       "      <td>48.0</td>\n",
       "      <td>70.0</td>\n",
       "      <td>1.005</td>\n",
       "      <td>4.0</td>\n",
       "      <td>0.0</td>\n",
       "      <td>0</td>\n",
       "      <td>117.000000</td>\n",
       "      <td>56.0</td>\n",
       "      <td>3.8</td>\n",
       "      <td>111.000000</td>\n",
       "      <td>2.500000</td>\n",
       "      <td>11.2</td>\n",
       "      <td>1</td>\n",
       "      <td>0</td>\n",
       "      <td>0</td>\n",
       "      <td>0</td>\n",
       "      <td>1</td>\n",
       "      <td>1</td>\n",
       "      <td>1</td>\n",
       "    </tr>\n",
       "    <tr>\n",
       "      <th>4</th>\n",
       "      <td>4</td>\n",
       "      <td>51.0</td>\n",
       "      <td>80.0</td>\n",
       "      <td>1.010</td>\n",
       "      <td>2.0</td>\n",
       "      <td>0.0</td>\n",
       "      <td>0</td>\n",
       "      <td>106.000000</td>\n",
       "      <td>26.0</td>\n",
       "      <td>1.4</td>\n",
       "      <td>137.528754</td>\n",
       "      <td>4.627244</td>\n",
       "      <td>11.6</td>\n",
       "      <td>0</td>\n",
       "      <td>0</td>\n",
       "      <td>0</td>\n",
       "      <td>1</td>\n",
       "      <td>0</td>\n",
       "      <td>0</td>\n",
       "      <td>1</td>\n",
       "    </tr>\n",
       "  </tbody>\n",
       "</table>\n",
       "</div>"
      ],
      "text/plain": [
       "   id   age  blood_pressure  specific gravity  albumin  sugar  bacteria  \\\n",
       "0   0  48.0            80.0             1.020      1.0    0.0         0   \n",
       "1   1   7.0            50.0             1.020      4.0    0.0         0   \n",
       "2   2  62.0            80.0             1.010      2.0    3.0         0   \n",
       "3   3  48.0            70.0             1.005      4.0    0.0         0   \n",
       "4   4  51.0            80.0             1.010      2.0    0.0         0   \n",
       "\n",
       "   blood glucose random  blood urea  serum creatinine      sodium  potassium  \\\n",
       "0            121.000000        36.0               1.2  137.528754   4.627244   \n",
       "1            148.036517        18.0               0.8  137.528754   4.627244   \n",
       "2            423.000000        53.0               1.8  137.528754   4.627244   \n",
       "3            117.000000        56.0               3.8  111.000000   2.500000   \n",
       "4            106.000000        26.0               1.4  137.528754   4.627244   \n",
       "\n",
       "   hemoglobin  hypertension  diabetes mellitus  coronary artery disease  \\\n",
       "0        15.4             1                  1                        0   \n",
       "1        11.3             0                  0                        0   \n",
       "2         9.6             0                  1                        0   \n",
       "3        11.2             1                  0                        0   \n",
       "4        11.6             0                  0                        0   \n",
       "\n",
       "   appetite  pedal edema  anemia  class  \n",
       "0         1            0       0      1  \n",
       "1         1            0       0      1  \n",
       "2         0            0       1      1  \n",
       "3         0            1       1      1  \n",
       "4         1            0       0      1  "
      ]
     },
     "execution_count": 7,
     "metadata": {},
     "output_type": "execute_result"
    }
   ],
   "source": [
    "df.head()"
   ]
  },
  {
   "cell_type": "code",
   "execution_count": 8,
   "id": "4d354672",
   "metadata": {},
   "outputs": [
    {
     "name": "stdout",
     "output_type": "stream",
     "text": [
      "Accuracy=0.98\n"
     ]
    },
    {
     "name": "stderr",
     "output_type": "stream",
     "text": [
      "C:\\Users\\boti\\anaconda3\\lib\\site-packages\\sklearn\\linear_model\\_logistic.py:814: ConvergenceWarning: lbfgs failed to converge (status=1):\n",
      "STOP: TOTAL NO. of ITERATIONS REACHED LIMIT.\n",
      "\n",
      "Increase the number of iterations (max_iter) or scale the data as shown in:\n",
      "    https://scikit-learn.org/stable/modules/preprocessing.html\n",
      "Please also refer to the documentation for alternative solver options:\n",
      "    https://scikit-learn.org/stable/modules/linear_model.html#logistic-regression\n",
      "  n_iter_i = _check_optimize_result(\n"
     ]
    }
   ],
   "source": [
    "x = df[['age', 'blood_pressure','specific gravity','albumin','sugar','bacteria','blood glucose random','blood urea','serum creatinine','sodium','potassium','hemoglobin','hypertension','diabetes mellitus','coronary artery disease','appetite','pedal edema','anemia']]\n",
    "y = df['class']\n",
    "x_train,x_test,y_train,y_test = train_test_split(x,y,test_size=0.25,random_state=0)  \n",
    "#splitting data with test size of 25%\n",
    "logreg = LogisticRegression()   #build our logistic model\n",
    "logreg.fit(x_train, y_train)  #fitting training data\n",
    "y_pred  = logreg.predict(x_test)    #testing model’s performance\n",
    "print(\"Accuracy={:.2f}\".format(logreg.score(x_test, y_test)))"
   ]
  },
  {
   "cell_type": "code",
   "execution_count": 9,
   "id": "0d43bf07",
   "metadata": {},
   "outputs": [
    {
     "data": {
      "text/plain": [
       "<AxesSubplot:xlabel='Predicted', ylabel='Actual'>"
      ]
     },
     "execution_count": 9,
     "metadata": {},
     "output_type": "execute_result"
    },
    {
     "data": {
      "image/png": "[encoded data removed]",
      "text/plain": [
       "<Figure size 432x288 with 2 Axes>"
      ]
     },
     "metadata": {
      "needs_background": "light"
     },
     "output_type": "display_data"
    }
   ],
   "source": [
    "confusion_matrix = pd.crosstab(y_test, y_pred, rownames=['Actual'], colnames=['Predicted'])\n",
    "sns.heatmap(confusion_matrix, annot=True)"
   ]
  },
  {
   "cell_type": "code",
   "execution_count": 10,
   "id": "28497d7c",
   "metadata": {},
   "outputs": [
    {
     "name": "stdout",
     "output_type": "stream",
     "text": [
      "Acuuracy= 0.8686868686868687\n"
     ]
    }
   ],
   "source": [
    "knn=KNeighborsClassifier(n_neighbors=20) \n",
    "knn.fit(x_train,y_train) \n",
    "y_pred=knn.predict(x_test)\n",
    "print('Acuuracy=',accuracy_score(y_pred,y_test))"
   ]
  },
  {
   "cell_type": "code",
   "execution_count": 11,
   "id": "59e1dab1",
   "metadata": {},
   "outputs": [
    {
     "name": "stdout",
     "output_type": "stream",
     "text": [
      "Accuracy for k= 1 is: 0.86\n",
      "Accuracy for k= 2 is: 0.88\n",
      "Accuracy for k= 3 is: 0.86\n",
      "Accuracy for k= 4 is: 0.87\n",
      "Accuracy for k= 5 is: 0.86\n",
      "Accuracy for k= 6 is: 0.87\n",
      "Accuracy for k= 7 is: 0.86\n",
      "Accuracy for k= 8 is: 0.87\n",
      "Accuracy for k= 9 is: 0.86\n",
      "Accuracy for k= 10 is: 0.87\n",
      "Accuracy for k= 11 is: 0.86\n",
      "Accuracy for k= 12 is: 0.87\n",
      "Accuracy for k= 13 is: 0.85\n",
      "Accuracy for k= 14 is: 0.88\n",
      "Accuracy for k= 15 is: 0.9\n",
      "Accuracy for k= 16 is: 0.9\n",
      "Accuracy for k= 17 is: 0.89\n",
      "Accuracy for k= 18 is: 0.88\n",
      "Accuracy for k= 19 is: 0.86\n",
      "Accuracy for k= 20 is: 0.87\n",
      "Accuracy for k= 21 is: 0.85\n",
      "Accuracy for k= 22 is: 0.83\n",
      "Accuracy for k= 23 is: 0.86\n",
      "Accuracy for k= 24 is: 0.85\n",
      "Accuracy for k= 25 is: 0.83\n",
      "Accuracy for k= 26 is: 0.83\n",
      "Accuracy for k= 27 is: 0.82\n",
      "Accuracy for k= 28 is: 0.82\n",
      "Accuracy for k= 29 is: 0.82\n"
     ]
    }
   ],
   "source": [
    "n_neighbors=30\n",
    "scores=[]\n",
    "for k in range(1,30):\n",
    "    knn=KNeighborsClassifier(n_neighbors-k)\n",
    "    knn.fit(x_train,y_train)\n",
    "    y_pred=knn.predict(x_test)\n",
    "    print('Accuracy for k=',k,'is:',round(accuracy_score(y_pred,y_test),2))\n",
    "    scores.append(round(accuracy_score(y_pred,y_test),2))"
   ]
  },
  {
   "cell_type": "code",
   "execution_count": 12,
   "id": "4e2988a3",
   "metadata": {},
   "outputs": [
    {
     "name": "stdout",
     "output_type": "stream",
     "text": [
      "Acuuracy= 0.898989898989899\n"
     ]
    }
   ],
   "source": [
    "# k = 15 is the best choise \n",
    "knn=KNeighborsClassifier(n_neighbors=15) \n",
    "knn.fit(x_train,y_train) \n",
    "y_pred=knn.predict(x_test)  \n",
    "print('Acuuracy=',accuracy_score(y_pred,y_test))"
   ]
  },
  {
   "cell_type": "code",
   "execution_count": 13,
   "id": "662e625e",
   "metadata": {},
   "outputs": [
    {
     "name": "stdout",
     "output_type": "stream",
     "text": [
      "score:0.9696969696969697\n"
     ]
    }
   ],
   "source": [
    "tree = tree.DecisionTreeClassifier()  \n",
    "tree.fit(x_train, y_train)\n",
    "y_pred=tree.predict(x_test) \n",
    "print(\"score:{}\".format(accuracy_score(y_test, y_pred)))"
   ]
  },
  {
   "cell_type": "code",
   "execution_count": 14,
   "id": "7d677897",
   "metadata": {},
   "outputs": [
    {
     "name": "stdout",
     "output_type": "stream",
     "text": [
      "Accuracy: 0.9797979797979798\n"
     ]
    }
   ],
   "source": [
    "clf=RandomForestClassifier(n_estimators=10)  \n",
    "clf.fit(x_train, y_train)  \n",
    "y_pred=clf.predict(x_test)  \n",
    "print(\"Accuracy:\", metrics.accuracy_score(y_test, y_pred)) "
   ]
  },
  {
   "cell_type": "code",
   "execution_count": 15,
   "id": "4f5920b8",
   "metadata": {},
   "outputs": [],
   "source": [
    "#the best Accuracy is by Randon forest classifier"
   ]
  },
  {
   "cell_type": "code",
   "execution_count": 16,
   "id": "0e15a542",
   "metadata": {},
   "outputs": [
    {
     "name": "stdout",
     "output_type": "stream",
     "text": [
      "<class 'pandas.core.frame.DataFrame'>\n",
      "Int64Index: 393 entries, 0 to 399\n",
      "Data columns (total 19 columns):\n",
      " #   Column                   Non-Null Count  Dtype  \n",
      "---  ------                   --------------  -----  \n",
      " 0   id                       393 non-null    int64  \n",
      " 1   age                      393 non-null    float64\n",
      " 2   blood_pressure           393 non-null    float64\n",
      " 3   specific gravity         393 non-null    float64\n",
      " 4   albumin                  393 non-null    float64\n",
      " 5   sugar                    393 non-null    float64\n",
      " 6   bacteria                 393 non-null    int64  \n",
      " 7   blood glucose random     393 non-null    float64\n",
      " 8   blood urea               393 non-null    float64\n",
      " 9   serum creatinine         393 non-null    float64\n",
      " 10  sodium                   393 non-null    float64\n",
      " 11  potassium                393 non-null    float64\n",
      " 12  hemoglobin               393 non-null    float64\n",
      " 13  hypertension             393 non-null    int64  \n",
      " 14  diabetes mellitus        393 non-null    int64  \n",
      " 15  coronary artery disease  393 non-null    int64  \n",
      " 16  appetite                 393 non-null    int64  \n",
      " 17  pedal edema              393 non-null    int64  \n",
      " 18  anemia                   393 non-null    int64  \n",
      "dtypes: float64(11), int64(8)\n",
      "memory usage: 61.4 KB\n"
     ]
    }
   ],
   "source": [
    "df.drop('class', inplace=True, axis=1)\n",
    "df.info()"
   ]
  },
  {
   "cell_type": "code",
   "execution_count": 17,
   "id": "7843e0e8",
   "metadata": {},
   "outputs": [],
   "source": [
    "model=AgglomerativeClustering(n_clusters=3, affinity='euclidean', linkage='complete')\n",
    "clust_labels=model.fit_predict(x)"
   ]
  },
  {
   "cell_type": "code",
   "execution_count": 18,
   "id": "b4fe2ffa",
   "metadata": {},
   "outputs": [
    {
     "data": {
      "text/html": [
       "<div>\n",
       "<style scoped>\n",
       "    .dataframe tbody tr th:only-of-type {\n",
       "        vertical-align: middle;\n",
       "    }\n",
       "\n",
       "    .dataframe tbody tr th {\n",
       "        vertical-align: top;\n",
       "    }\n",
       "\n",
       "    .dataframe thead th {\n",
       "        text-align: right;\n",
       "    }\n",
       "</style>\n",
       "<table border=\"1\" class=\"dataframe\">\n",
       "  <thead>\n",
       "    <tr style=\"text-align: right;\">\n",
       "      <th></th>\n",
       "      <th>0</th>\n",
       "    </tr>\n",
       "  </thead>\n",
       "  <tbody>\n",
       "    <tr>\n",
       "      <th>0</th>\n",
       "      <td>0</td>\n",
       "    </tr>\n",
       "    <tr>\n",
       "      <th>1</th>\n",
       "      <td>0</td>\n",
       "    </tr>\n",
       "    <tr>\n",
       "      <th>2</th>\n",
       "      <td>1</td>\n",
       "    </tr>\n",
       "    <tr>\n",
       "      <th>3</th>\n",
       "      <td>0</td>\n",
       "    </tr>\n",
       "    <tr>\n",
       "      <th>4</th>\n",
       "      <td>0</td>\n",
       "    </tr>\n",
       "    <tr>\n",
       "      <th>...</th>\n",
       "      <td>...</td>\n",
       "    </tr>\n",
       "    <tr>\n",
       "      <th>388</th>\n",
       "      <td>0</td>\n",
       "    </tr>\n",
       "    <tr>\n",
       "      <th>389</th>\n",
       "      <td>0</td>\n",
       "    </tr>\n",
       "    <tr>\n",
       "      <th>390</th>\n",
       "      <td>0</td>\n",
       "    </tr>\n",
       "    <tr>\n",
       "      <th>391</th>\n",
       "      <td>0</td>\n",
       "    </tr>\n",
       "    <tr>\n",
       "      <th>392</th>\n",
       "      <td>0</td>\n",
       "    </tr>\n",
       "  </tbody>\n",
       "</table>\n",
       "<p>393 rows × 1 columns</p>\n",
       "</div>"
      ],
      "text/plain": [
       "     0\n",
       "0    0\n",
       "1    0\n",
       "2    1\n",
       "3    0\n",
       "4    0\n",
       "..  ..\n",
       "388  0\n",
       "389  0\n",
       "390  0\n",
       "391  0\n",
       "392  0\n",
       "\n",
       "[393 rows x 1 columns]"
      ]
     },
     "execution_count": 18,
     "metadata": {},
     "output_type": "execute_result"
    }
   ],
   "source": [
    "agglomerative=pd.DataFrame(clust_labels)\n",
    "agglomerative"
   ]
  },
  {
   "cell_type": "code",
   "execution_count": 19,
   "id": "a212c17c",
   "metadata": {},
   "outputs": [
    {
     "data": {
      "text/plain": [
       "<matplotlib.colorbar.Colorbar at 0x1e56f2594f0>"
      ]
     },
     "execution_count": 19,
     "metadata": {},
     "output_type": "execute_result"
    },
    {
     "data": {
      "image/png": "[encoded data removed]",
      "text/plain": [
       "<Figure size 432x288 with 2 Axes>"
      ]
     },
     "metadata": {
      "needs_background": "light"
     },
     "output_type": "display_data"
    }
   ],
   "source": [
    "import matplotlib.pyplot as plt\n",
    "fig =plt.figure()\n",
    "ax = fig.add_subplot(111)\n",
    "scatter = ax.scatter (df ['age'] , df [\"sugar\"] , c= agglomerative[0], s=50)\n",
    "ax.set_title(\"Agglomerative Clutering\")\n",
    "ax.set_xlabel(\"age\")\n",
    "ax.set_ylabel(\"suge\")\n",
    "plt.colorbar(scatter)"
   ]
  },
  {
   "cell_type": "code",
   "execution_count": 24,
   "id": "d8cd757f",
   "metadata": {},
   "outputs": [
    {
     "data": {
      "text/html": [
       "<div>\n",
       "<style scoped>\n",
       "    .dataframe tbody tr th:only-of-type {\n",
       "        vertical-align: middle;\n",
       "    }\n",
       "\n",
       "    .dataframe tbody tr th {\n",
       "        vertical-align: top;\n",
       "    }\n",
       "\n",
       "    .dataframe thead th {\n",
       "        text-align: right;\n",
       "    }\n",
       "</style>\n",
       "<table border=\"1\" class=\"dataframe\">\n",
       "  <thead>\n",
       "    <tr style=\"text-align: right;\">\n",
       "      <th></th>\n",
       "      <th>0</th>\n",
       "    </tr>\n",
       "  </thead>\n",
       "  <tbody>\n",
       "    <tr>\n",
       "      <th>0</th>\n",
       "      <td>2</td>\n",
       "    </tr>\n",
       "    <tr>\n",
       "      <th>1</th>\n",
       "      <td>2</td>\n",
       "    </tr>\n",
       "    <tr>\n",
       "      <th>2</th>\n",
       "      <td>0</td>\n",
       "    </tr>\n",
       "    <tr>\n",
       "      <th>3</th>\n",
       "      <td>2</td>\n",
       "    </tr>\n",
       "    <tr>\n",
       "      <th>4</th>\n",
       "      <td>2</td>\n",
       "    </tr>\n",
       "    <tr>\n",
       "      <th>...</th>\n",
       "      <td>...</td>\n",
       "    </tr>\n",
       "    <tr>\n",
       "      <th>388</th>\n",
       "      <td>1</td>\n",
       "    </tr>\n",
       "    <tr>\n",
       "      <th>389</th>\n",
       "      <td>1</td>\n",
       "    </tr>\n",
       "    <tr>\n",
       "      <th>390</th>\n",
       "      <td>1</td>\n",
       "    </tr>\n",
       "    <tr>\n",
       "      <th>391</th>\n",
       "      <td>1</td>\n",
       "    </tr>\n",
       "    <tr>\n",
       "      <th>392</th>\n",
       "      <td>1</td>\n",
       "    </tr>\n",
       "  </tbody>\n",
       "</table>\n",
       "<p>393 rows × 1 columns</p>\n",
       "</div>"
      ],
      "text/plain": [
       "     0\n",
       "0    2\n",
       "1    2\n",
       "2    0\n",
       "3    2\n",
       "4    2\n",
       "..  ..\n",
       "388  1\n",
       "389  1\n",
       "390  1\n",
       "391  1\n",
       "392  1\n",
       "\n",
       "[393 rows x 1 columns]"
      ]
     },
     "execution_count": 24,
     "metadata": {},
     "output_type": "execute_result"
    }
   ],
   "source": [
    "from sklearn.cluster import KMeans  #Importing our clustering algorithm: KMeans\n",
    "kmeans=KMeans(n_clusters=3, random_state=0)  #Cluster our data by choosing 5 as number of clusters\n",
    "kmeans.fit(df)\n",
    "labels=pd.DataFrame(kmeans.labels_)\n",
    "labels"
   ]
  },
  {
   "cell_type": "code",
   "execution_count": 36,
   "id": "6d3525c4",
   "metadata": {},
   "outputs": [
    {
     "name": "stdout",
     "output_type": "stream",
     "text": [
      "[[1.41522388e+02 5.87679124e+01 8.13871365e+01 1.01397742e+00\n",
      "  1.79382747e+00 1.86494876e+00 8.95522388e-02 2.86656716e+02\n",
      "  7.79630705e+01 4.20406648e+00 1.34574889e+02 5.08940873e+00\n",
      "  1.09632527e+01 7.31343284e-01 8.95522388e-01 2.08955224e-01\n",
      "  7.01492537e-01 2.53731343e-01 2.53731343e-01]\n",
      " [3.09017442e+02 4.73923452e+01 7.35054543e+01 1.02107023e+00\n",
      "  2.16101695e-01 5.52408401e-02 1.16279070e-02 1.12600960e+02\n",
      "  3.65654489e+01 1.24897990e+00 1.40913394e+02 4.37541928e+00\n",
      "  1.44911053e+01 8.13953488e-02 5.81395349e-02 2.90697674e-02\n",
      "  9.65116279e-01 5.23255814e-02 1.74418605e-02]\n",
      " [9.77532468e+01 5.29767330e+01 7.80862565e+01 1.01462731e+00\n",
      "  1.61963460e+00 2.96129796e-01 9.09090909e-02 1.29384686e+02\n",
      "  7.28734141e+01 4.72197874e+00 1.34901819e+02 4.70801906e+00\n",
      "  1.09080534e+01 5.45454545e-01 5.00000000e-01 1.23376623e-01\n",
      "  6.36363636e-01 3.24675325e-01 2.59740260e-01]]\n"
     ]
    },
    {
     "data": {
      "text/plain": [
       "array([2, 2, 0, 2, 2, 2, 2, 0, 2, 2, 0, 0, 2, 2, 2, 2, 2, 2, 0, 2, 2, 2,\n",
       "       2, 2, 2, 2, 2, 0, 2, 2, 2, 2, 2, 2, 2, 0, 2, 2, 2, 2, 2, 2, 2, 2,\n",
       "       2, 2, 2, 2, 2, 2, 2, 2, 2, 0, 2, 2, 2, 2, 0, 2, 2, 2, 2, 2, 2, 2,\n",
       "       2, 0, 2, 0, 0, 2, 2, 2, 2, 2, 2, 2, 2, 2, 2, 0, 2, 2, 2, 2, 0, 2,\n",
       "       0, 2, 0, 2, 0, 0, 2, 2, 2, 2, 2, 0, 2, 2, 2, 0, 2, 2, 2, 0, 2, 0,\n",
       "       2, 0, 2, 2, 2, 2, 2, 0, 2, 2, 0, 2, 2, 2, 2, 0, 2, 2, 0, 2, 2, 2,\n",
       "       0, 2, 2, 0, 0, 0, 2, 2, 0, 2, 2, 0, 2, 2, 0, 0, 2, 2, 2, 2, 2, 0,\n",
       "       0, 2, 2, 2, 0, 0, 2, 2, 0, 2, 2, 2, 2, 2, 0, 0, 0, 2, 0, 2, 2, 0,\n",
       "       2, 0, 2, 2, 0, 2, 2, 2, 0, 2, 2, 2, 2, 0, 2, 2, 2, 2, 2, 2, 2, 2,\n",
       "       0, 1, 2, 2, 2, 0, 2, 1, 2, 0, 0, 1, 0, 1, 0, 0, 1, 1, 1, 1, 1, 0,\n",
       "       1, 0, 1, 0, 1, 0, 1, 1, 1, 0, 1, 0, 1, 1, 1, 1, 1, 1, 0, 1, 1, 1,\n",
       "       0, 1, 0, 1, 1, 1, 0, 0, 1, 1, 1, 1, 1, 1, 1, 1, 1, 1, 1, 1, 1, 1,\n",
       "       1, 1, 1, 1, 1, 1, 1, 1, 1, 1, 1, 1, 1, 1, 1, 1, 1, 1, 1, 1, 1, 1,\n",
       "       1, 1, 1, 1, 1, 1, 1, 1, 1, 1, 1, 1, 1, 1, 1, 1, 1, 1, 1, 1, 1, 1,\n",
       "       1, 1, 1, 1, 1, 1, 1, 1, 1, 1, 1, 1, 1, 1, 1, 1, 1, 1, 1, 1, 1, 1,\n",
       "       1, 1, 1, 1, 1, 1, 1, 1, 1, 1, 1, 1, 1, 1, 1, 1, 1, 1, 1, 1, 1, 1,\n",
       "       1, 1, 1, 1, 1, 1, 1, 1, 1, 1, 1, 1, 1, 1, 1, 1, 1, 1, 1, 1, 1, 1,\n",
       "       1, 1, 1, 1, 1, 1, 1, 1, 1, 1, 1, 1, 1, 1, 1, 1, 1, 1, 1])"
      ]
     },
     "execution_count": 36,
     "metadata": {},
     "output_type": "execute_result"
    }
   ],
   "source": [
    "label = kmeans.fit_predict(df)\n",
    "print(kmeans.cluster_centers_) \n",
    "label"
   ]
  },
  {
   "cell_type": "code",
   "execution_count": 42,
   "id": "83e39692",
   "metadata": {},
   "outputs": [
    {
     "data": {
      "image/png": "[encoded data removed]",
      "text/plain": [
       "<Figure size 432x288 with 1 Axes>"
      ]
     },
     "metadata": {
      "needs_background": "light"
     },
     "output_type": "display_data"
    }
   ],
   "source": [
    "plt.scatter(df[\"age\"][label== 0],          \n",
    "            df[\"blood_pressure\"][label == 0],s=80,c='magenta',label='Ckd')\n",
    "plt.scatter(df[\"age\"][label == 1],\n",
    "           df[\"blood_pressure\"][label == 1],s=80,c='yellow',label='ckd/t')\n",
    "plt.scatter(df[\"age\"][label == 2],\n",
    "           df[\"blood_pressure\"][label == 2],s=80,c='green',label='notckd')\n",
    "plt.scatter(kmeans.cluster_centers_[:, 0], kmeans.cluster_centers_[:, 1], s=300, c='red', label = 'Centroids')\n",
    "plt.title('class')\n",
    "plt.xlabel('blood_pressure')\n",
    "plt.ylabel('age')\n",
    "plt.legend()\n",
    "plt.show()"
   ]
  },
  {
   "cell_type": "code",
   "execution_count": null,
   "id": "4c53d7bd",
   "metadata": {},
   "outputs": [],
   "source": []
  }
 ],
 "metadata": {
  "kernelspec": {
   "display_name": "Python 3 (ipykernel)",
   "language": "python",
   "name": "python3"
  },
  "language_info": {
   "codemirror_mode": {
    "name": "ipython",
    "version": 3
   },
   "file_extension": ".py",
   "mimetype": "text/x-python",
   "name": "python",
   "nbconvert_exporter": "python",
   "pygments_lexer": "ipython3",
   "version": "3.9.12"
  }
 },
 "nbformat": 4,
 "nbformat_minor": 5
}
